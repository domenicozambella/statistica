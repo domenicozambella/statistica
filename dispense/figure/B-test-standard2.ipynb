{
 "cells": [
  {
   "cell_type": "code",
   "execution_count": 3,
   "metadata": {
    "collapsed": false
   },
   "outputs": [],
   "source": [
    "%matplotlib inline\n",
    "from numpy import arange, linspace, array\n",
    "from scipy.stats import binom\n",
    "from pandas import Series\n",
    "from matplotlib.pyplot import figure, savefig, ylim, xlim, legend, gca, plot, bar\n",
    "from matplotlib import rc\n",
    "from seaborn import barplot\n",
    "rc('text', usetex=True)\n",
    "rc('font', family='serif', serif='Times', size=20)"
   ]
  },
  {
   "cell_type": "code",
   "execution_count": 30,
   "metadata": {
    "collapsed": false
   },
   "outputs": [],
   "source": [
    "def f(n=20, p=0.5, tail='upper', error='I'):\n",
    "    \n",
    "    def standard(x, n=n, p=p):\n",
    "        return (x - n*p) / ( n*p*(1-p) )**(1/2)\n",
    "    \n",
    "    \n",
    "    x = [ standard(i) for i in range(n+1) ]\n",
    "    y = Series( binom.pmf( range(n+1),n,p), index=x )\n",
    "    \n",
    "    k1 =  standard(7.5, n=20)\n",
    "    k2 =  standard(12.5, n=20) \n",
    "    \n",
    "    kk1 = k1 * ( n*p*(1-p) )**(1/2) + n*p\n",
    "    kk2 = k2 * ( n*p*(1-p) )**(1/2) + n*p\n",
    "    \n",
    "    figure( figsize=(12,5) )\n",
    "    ylim(0, 0.20)\n",
    "    xlim(-5, 5)\n",
    "    palette = ['gray']*(n+1)\n",
    "    q = y\n",
    "    \n",
    "    if ( tail=='upper' or tail=='two'):\n",
    "        plot([k2]*2, [0,1], linestyle='--', color='black')\n",
    "        gca().annotate( 'Rifiuto', \n",
    "                    xy=(0.75, 0.93),  \n",
    "                    color='red', \n",
    "                    xycoords='axes fraction' )\n",
    "        \n",
    "    if ( tail=='lower' or tail=='two' ):\n",
    "        plot([k1]*2, [0,1], linestyle='--', color='black') \n",
    "        gca().annotate( 'Rifiuto', \n",
    "                        xy=(0.25, 0.93),  \n",
    "                        color='red', \n",
    "                        horizontalalignment='right', \n",
    "                        xycoords='axes fraction' )\n",
    "    \n",
    "    palette = ['gray'] * len(y)\n",
    "    palette = ['red' if (tail=='lower' and  i <= kk1 )            else palette[i] for i in range(len(y))]\n",
    "    palette = ['red' if (tail=='upper' and  i >= kk2  )           else palette[i] for i in range(len(y))]\n",
    "    palette = ['red' if (tail=='two'   and (i <=kk1 or i >= kk2)) else palette[i] for i in range(len(y))]\n",
    "    if (error=='II'):\n",
    "        palette = ['blue' if (palette[i]== 'gray') else 'gray' for i in range(len(y))]\n",
    "      \n",
    "    #q = [0 if (palette[i]=='gray') else y[i] for i in range(len(y))]  \n",
    "    q = [0 if (palette[i]=='gray') else y.iloc[i] for i in range(len(y))]  \n",
    "               \n",
    "    if (error=='I'):\n",
    "        gca().annotate(r'$\\alpha= P(T_+|H_0)\\ \\simeq\\ ${:.3f}'.format(sum(q)), \n",
    "                       xy=(0.98,0.25), \n",
    "                       color='red', \n",
    "                       horizontalalignment='right', \n",
    "                       xycoords='axes fraction')\n",
    "    #q = [0 if (palette[i]=='gray') else y[standard(i)] for i in range(len(y))] \n",
    "    gca().annotate( '$n={}$\\n $p={}$'.format(n,p), \n",
    "                    xy=(0.02, 0.72), \n",
    "                    linespacing=1.8, \n",
    "                    xycoords='axes fraction' )\n",
    "    gca().annotate( 'Non Rifiuto', \n",
    "                    xy=(0.5, 0.93), \n",
    "                    horizontalalignment='center', \n",
    "                    xycoords='axes fraction' )\n",
    "    return y, palette, sum(q)"
   ]
  },
  {
   "cell_type": "code",
   "execution_count": 31,
   "metadata": {
    "collapsed": false,
    "scrolled": false
   },
   "outputs": [
    {
     "data": {
      "image/png": "[encoded data removed]",
      "text/plain": [
       "<matplotlib.figure.Figure at 0x7f39bb2ac470>"
      ]
     },
     "metadata": {},
     "output_type": "display_data"
    }
   ],
   "source": [
    "n=20; p=0.5\n",
    "y, palette, q = f(n=n, p=p, tail='two', error='I')\n",
    "#y.plot.bar(rot=0, color=palette, grid=\"off\")\n",
    "#barplot(x=y.index, y=y, palette=palette)\n",
    "#x = [ '{:.1f}'.format(y.index[i]) if i%2==0 else '' for i in range(n+1) ]\n",
    "#gca().set_xticklabels(x)\n",
    "bar(y.index, array(y, dtype=Series), width=0.2, color=palette)\n",
    "gca().tick_params(axis='x', labelsize=14)\n",
    "gca().grid(axis='x')\n",
    "savefig( 'B-test-standard2_01.pdf',bbox_inches='tight' )"
   ]
  },
  {
   "cell_type": "code",
   "execution_count": 37,
   "metadata": {
    "collapsed": false
   },
   "outputs": [
    {
     "data": {
      "image/png": "[encoded data removed]",
      "text/plain": [
       "<matplotlib.figure.Figure at 0x7f39bb55d6a0>"
      ]
     },
     "metadata": {},
     "output_type": "display_data"
    }
   ],
   "source": [
    "n=40; p=0.5\n",
    "y, palette, q = f(n=n, p=p,  tail='two', error='I')\n",
    "ylim(0, 0.20)\n",
    "\n",
    "#y.plot.bar(rot=0, color=palette, grid=\"off\")\n",
    "#barplot(x=y.index, y=y, palette=palette)\n",
    "#x = ['{}'.format(y.index[i]) if i%2==0 else '' for i in range(n+1) ]\n",
    "#gca().set_xticklabels(x)\n",
    "bar(y.index, array(y, dtype=Series), width=0.20, color=palette)\n",
    "gca().tick_params(axis='x', labelsize=14)\n",
    "gca().grid(axis='x')\n",
    "\n",
    "savefig('B-test-standard2_02.pdf',bbox_inches='tight')"
   ]
  },
  {
   "cell_type": "code",
   "execution_count": 38,
   "metadata": {
    "collapsed": false
   },
   "outputs": [
    {
     "data": {
      "text/plain": [
       "1.8973665961010275"
      ]
     },
     "execution_count": 38,
     "metadata": {},
     "output_type": "execute_result"
    }
   ],
   "source": [
    "n=40; p=0.5; k=26\n",
    "(k - n*p) / ( n*p*(1-p) )**(1/2)"
   ]
  },
  {
   "cell_type": "code",
   "execution_count": 39,
   "metadata": {
    "collapsed": false
   },
   "outputs": [
    {
     "data": {
      "text/plain": [
       "1.3416407864998738"
      ]
     },
     "execution_count": 39,
     "metadata": {},
     "output_type": "execute_result"
    }
   ],
   "source": [
    "n=20; p=0.5; k=13\n",
    "(k - n*p) / ( n*p*(1-p) )**(1/2)"
   ]
  },
  {
   "cell_type": "code",
   "execution_count": null,
   "metadata": {
    "collapsed": true
   },
   "outputs": [],
   "source": []
  }
 ],
 "metadata": {
  "kernelspec": {
   "display_name": "Python 3",
   "language": "python",
   "name": "python3"
  },
  "language_info": {
   "codemirror_mode": {
    "name": "ipython",
    "version": 3
   },
   "file_extension": ".py",
   "mimetype": "text/x-python",
   "name": "python",
   "nbconvert_exporter": "python",
   "pygments_lexer": "ipython3",
   "version": "3.6.0"
  }
 },
 "nbformat": 4,
 "nbformat_minor": 2
}
